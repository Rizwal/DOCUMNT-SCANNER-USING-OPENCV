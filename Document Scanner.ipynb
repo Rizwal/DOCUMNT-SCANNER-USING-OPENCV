{
 "cells": [
  {
   "cell_type": "code",
   "execution_count": 14,
   "id": "c036a425",
   "metadata": {},
   "outputs": [],
   "source": [
    "import numpy as np\n",
    "import cv2 as cv\n"
   ]
  },
  {
   "cell_type": "code",
   "execution_count": 15,
   "id": "1cadc1d8",
   "metadata": {},
   "outputs": [],
   "source": [
    "def mapp(h):\n",
    "    h = h.reshape((4,2))\n",
    "    hnew = np.zeros((4,2),dtype = np.float32)\n",
    "\n",
    "    add = h.sum(1)\n",
    "    hnew[0] = h[np.argmin(add)]\n",
    "    hnew[2] = h[np.argmax(add)]\n",
    "\n",
    "    diff = np.diff(h,axis = 1)\n",
    "    hnew[1] = h[np.argmin(diff)]\n",
    "    hnew[3] = h[np.argmax(diff)]\n",
    "\n",
    "    return hnew"
   ]
  },
  {
   "cell_type": "code",
   "execution_count": 17,
   "id": "cea666a2",
   "metadata": {},
   "outputs": [],
   "source": [
    "import cv2\n",
    "import numpy as np\n",
    "\n",
    "image=cv2.imread(\"doc3.jpg\")\n",
    " \n",
    "orig=image.copy()\n",
    "\n",
    "gray=cv2.cvtColor(image,cv2.COLOR_BGR2GRAY)  #RGB To Gray Scale\n",
    "cv2.imshow(\"Title\",gray)\n",
    "\n",
    "blurred=cv2.GaussianBlur(gray,(5,5),0)  #(5,5) is the kernel size and 0 is sigma that determines the amount of blur\n",
    "cv2.imshow(\"Blur\",blurred)\n",
    "\n",
    "edged=cv2.Canny(blurred,30,50)  #30 MinThreshold and 50 is the MaxThreshold\n",
    "cv2.imshow(\"Canny\",edged)\n",
    "\n",
    "\n",
    "contours,hierarchy=cv2.findContours(edged,cv2.RETR_LIST,cv2.CHAIN_APPROX_SIMPLE)  #retrieve the contours as a list, with simple apprximation model\n",
    "contours=sorted(contours,key=cv2.contourArea,reverse=True)\n",
    "\n",
    "#the loop extracts the boundary contours of the page\n",
    "\n",
    "pts=np.float32([[0,0],[800,0],[800,800],[0,800]])\n",
    "\n",
    "\n",
    "max_area=0\n",
    "for c in contours:\n",
    "    area=cv.contourArea(c)\n",
    "    if(area>1000):\n",
    "        p=cv2.arcLength(c,True)\n",
    "        approx=cv2.approxPolyDP(c,0.02*p,True)\n",
    "\n",
    "        if area > max_area and len(approx)==4:\n",
    "            max_area = area\n",
    "            target=approx\n",
    "            break\n",
    "approx=mapp(target) #find endpoints of the sheet\n",
    "  \n",
    "cv.drawContours(image,[target],-1,(0,255,0),3)\n",
    "cv.imshow('contor',image)\n",
    "\n",
    "op=cv2.getPerspectiveTransform(approx,pts)  #get the top or bird eye view effect\n",
    "dst=cv2.warpPerspective(orig,op,(800,800))\n",
    "\n",
    "\n",
    "cv2.imshow(\"Scanned\",dst)\n",
    "cv2.waitKey(0)\n",
    "cv2.destroyAllWindows()"
   ]
  },
  {
   "cell_type": "code",
   "execution_count": null,
   "id": "25c52a8b",
   "metadata": {},
   "outputs": [],
   "source": []
  },
  {
   "cell_type": "code",
   "execution_count": null,
   "id": "0bd8beca",
   "metadata": {},
   "outputs": [],
   "source": []
  }
 ],
 "metadata": {
  "kernelspec": {
   "display_name": "Python 3 (ipykernel)",
   "language": "python",
   "name": "python3"
  },
  "language_info": {
   "codemirror_mode": {
    "name": "ipython",
    "version": 3
   },
   "file_extension": ".py",
   "mimetype": "text/x-python",
   "name": "python",
   "nbconvert_exporter": "python",
   "pygments_lexer": "ipython3",
   "version": "3.10.0"
  }
 },
 "nbformat": 4,
 "nbformat_minor": 5
}
